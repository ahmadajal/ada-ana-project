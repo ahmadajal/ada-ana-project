{
 "cells": [
  {
   "cell_type": "code",
   "execution_count": 21,
   "metadata": {
    "collapsed": true
   },
   "outputs": [],
   "source": [
    "import pandas as pd\n",
    "import numpy as np\n",
    "from IPython.display import display, HTML"
   ]
  },
  {
   "cell_type": "code",
   "execution_count": 2,
   "metadata": {
    "collapsed": true
   },
   "outputs": [],
   "source": [
    "df = pd.read_json(\"data/harvest3r_twitter_data_01-04_0.json\")"
   ]
  },
  {
   "cell_type": "code",
   "execution_count": 4,
   "metadata": {
    "collapsed": false
   },
   "outputs": [
    {
     "data": {
      "text/html": [
       "<div>\n",
       "<table border=\"1\" class=\"dataframe\">\n",
       "  <thead>\n",
       "    <tr style=\"text-align: right;\">\n",
       "      <th></th>\n",
       "      <th>_id</th>\n",
       "      <th>_index</th>\n",
       "      <th>_score</th>\n",
       "      <th>_source</th>\n",
       "      <th>_type</th>\n",
       "    </tr>\n",
       "  </thead>\n",
       "  <tbody>\n",
       "    <tr>\n",
       "      <th>0</th>\n",
       "      <td>1459505293000008960</td>\n",
       "      <td>merged_content_2016_04_01_to_2016_04_14</td>\n",
       "      <td>0.001139</td>\n",
       "      <td>{'source_favicon_height': 0, 'source_likes': 0...</td>\n",
       "      <td>content</td>\n",
       "    </tr>\n",
       "    <tr>\n",
       "      <th>1</th>\n",
       "      <td>1459504074000012800</td>\n",
       "      <td>merged_content_2016_04_01_to_2016_04_14</td>\n",
       "      <td>0.001139</td>\n",
       "      <td>{'source_favicon_height': 0, 'source_likes': 0...</td>\n",
       "      <td>content</td>\n",
       "    </tr>\n",
       "    <tr>\n",
       "      <th>2</th>\n",
       "      <td>1459547684000013568</td>\n",
       "      <td>merged_content_2016_04_01_to_2016_04_14</td>\n",
       "      <td>0.001139</td>\n",
       "      <td>{'source_favicon_height': 0, 'source_likes': 0...</td>\n",
       "      <td>content</td>\n",
       "    </tr>\n",
       "    <tr>\n",
       "      <th>3</th>\n",
       "      <td>1459478188000002816</td>\n",
       "      <td>merged_content_2016_04_01_to_2016_04_14</td>\n",
       "      <td>0.001139</td>\n",
       "      <td>{'source_favicon_height': 0, 'source_likes': 0...</td>\n",
       "      <td>content</td>\n",
       "    </tr>\n",
       "    <tr>\n",
       "      <th>4</th>\n",
       "      <td>1459519767000012288</td>\n",
       "      <td>merged_content_2016_04_01_to_2016_04_14</td>\n",
       "      <td>0.001139</td>\n",
       "      <td>{'source_favicon_height': 0, 'source_likes': 0...</td>\n",
       "      <td>content</td>\n",
       "    </tr>\n",
       "  </tbody>\n",
       "</table>\n",
       "</div>"
      ],
      "text/plain": [
       "                   _id                                   _index    _score  \\\n",
       "0  1459505293000008960  merged_content_2016_04_01_to_2016_04_14  0.001139   \n",
       "1  1459504074000012800  merged_content_2016_04_01_to_2016_04_14  0.001139   \n",
       "2  1459547684000013568  merged_content_2016_04_01_to_2016_04_14  0.001139   \n",
       "3  1459478188000002816  merged_content_2016_04_01_to_2016_04_14  0.001139   \n",
       "4  1459519767000012288  merged_content_2016_04_01_to_2016_04_14  0.001139   \n",
       "\n",
       "                                             _source    _type  \n",
       "0  {'source_favicon_height': 0, 'source_likes': 0...  content  \n",
       "1  {'source_favicon_height': 0, 'source_likes': 0...  content  \n",
       "2  {'source_favicon_height': 0, 'source_likes': 0...  content  \n",
       "3  {'source_favicon_height': 0, 'source_likes': 0...  content  \n",
       "4  {'source_favicon_height': 0, 'source_likes': 0...  content  "
      ]
     },
     "execution_count": 4,
     "metadata": {},
     "output_type": "execute_result"
    }
   ],
   "source": [
    "df.head()"
   ]
  },
  {
   "cell_type": "code",
   "execution_count": 27,
   "metadata": {
    "collapsed": false
   },
   "outputs": [],
   "source": [
    "df2 = pd.io.json.json_normalize(df._source[3])"
   ]
  },
  {
   "cell_type": "code",
   "execution_count": 29,
   "metadata": {
    "collapsed": false
   },
   "outputs": [
    {
     "data": {
      "text/html": [
       "<div>\n",
       "<table border=\"1\" class=\"dataframe\">\n",
       "  <thead>\n",
       "    <tr style=\"text-align: right;\">\n",
       "      <th></th>\n",
       "      <th>author_avatar_img</th>\n",
       "      <th>author_gender</th>\n",
       "      <th>author_handle</th>\n",
       "      <th>author_link</th>\n",
       "    </tr>\n",
       "  </thead>\n",
       "  <tbody>\n",
       "    <tr>\n",
       "      <th>0</th>\n",
       "      <td>https://pbs.twimg.com/profile_images/646392333...</td>\n",
       "      <td>UNKNOWN</td>\n",
       "      <td>ALFEEL_GOOD</td>\n",
       "      <td>https://twitter.com/ALFEEL_GOOD</td>\n",
       "    </tr>\n",
       "  </tbody>\n",
       "</table>\n",
       "</div>"
      ],
      "text/plain": [
       "                                   author_avatar_img author_gender  \\\n",
       "0  https://pbs.twimg.com/profile_images/646392333...       UNKNOWN   \n",
       "\n",
       "  author_handle                      author_link  \n",
       "0   ALFEEL_GOOD  https://twitter.com/ALFEEL_GOOD  "
      ]
     },
     "metadata": {},
     "output_type": "display_data"
    },
    {
     "data": {
      "text/html": [
       "<div>\n",
       "<table border=\"1\" class=\"dataframe\">\n",
       "  <thead>\n",
       "    <tr style=\"text-align: right;\">\n",
       "      <th></th>\n",
       "      <th>author_name</th>\n",
       "      <th>bucket</th>\n",
       "      <th>canonical</th>\n",
       "      <th>date_found</th>\n",
       "    </tr>\n",
       "  </thead>\n",
       "  <tbody>\n",
       "    <tr>\n",
       "      <th>0</th>\n",
       "      <td>ALFEEL GOOD</td>\n",
       "      <td>1459478100066</td>\n",
       "      <td>https://twitter.com/ALFEEL_GOOD/status/7157293...</td>\n",
       "      <td>2016-04-01T02:36:28Z</td>\n",
       "    </tr>\n",
       "  </tbody>\n",
       "</table>\n",
       "</div>"
      ],
      "text/plain": [
       "   author_name         bucket  \\\n",
       "0  ALFEEL GOOD  1459478100066   \n",
       "\n",
       "                                           canonical            date_found  \n",
       "0  https://twitter.com/ALFEEL_GOOD/status/7157293...  2016-04-01T02:36:28Z  "
      ]
     },
     "metadata": {},
     "output_type": "display_data"
    },
    {
     "data": {
      "text/html": [
       "<div>\n",
       "<table border=\"1\" class=\"dataframe\">\n",
       "  <thead>\n",
       "    <tr style=\"text-align: right;\">\n",
       "      <th></th>\n",
       "      <th>domain</th>\n",
       "      <th>hashcode</th>\n",
       "      <th>index_method</th>\n",
       "      <th>lang</th>\n",
       "    </tr>\n",
       "  </thead>\n",
       "  <tbody>\n",
       "    <tr>\n",
       "      <th>0</th>\n",
       "      <td>twitter.com</td>\n",
       "      <td>gadKcHq7icu7mdbqeh-kb-QXZ5I</td>\n",
       "      <td>SOURCE_TASK_COMPOSITE</td>\n",
       "      <td>en</td>\n",
       "    </tr>\n",
       "  </tbody>\n",
       "</table>\n",
       "</div>"
      ],
      "text/plain": [
       "        domain                     hashcode           index_method lang\n",
       "0  twitter.com  gadKcHq7icu7mdbqeh-kb-QXZ5I  SOURCE_TASK_COMPOSITE   en"
      ]
     },
     "metadata": {},
     "output_type": "display_data"
    },
    {
     "data": {
      "text/html": [
       "<div>\n",
       "<table border=\"1\" class=\"dataframe\">\n",
       "  <thead>\n",
       "    <tr style=\"text-align: right;\">\n",
       "      <th></th>\n",
       "      <th>links</th>\n",
       "      <th>main</th>\n",
       "      <th>main_authoritative</th>\n",
       "      <th>main_checksum</th>\n",
       "    </tr>\n",
       "  </thead>\n",
       "  <tbody>\n",
       "    <tr>\n",
       "      <th>0</th>\n",
       "      <td>[https://t.co/vUdAJYDu4o, https://twitter.com/...</td>\n",
       "      <td>@ZHA_News https://youtu.be/UxQmxIm4q1s  Rest i...</td>\n",
       "      <td>True</td>\n",
       "      <td>j-LPxbxNB4LrdiZOLU9xmigJj3o</td>\n",
       "    </tr>\n",
       "  </tbody>\n",
       "</table>\n",
       "</div>"
      ],
      "text/plain": [
       "                                               links  \\\n",
       "0  [https://t.co/vUdAJYDu4o, https://twitter.com/...   \n",
       "\n",
       "                                                main main_authoritative  \\\n",
       "0  @ZHA_News https://youtu.be/UxQmxIm4q1s  Rest i...               True   \n",
       "\n",
       "                 main_checksum  \n",
       "0  j-LPxbxNB4LrdiZOLU9xmigJj3o  "
      ]
     },
     "metadata": {},
     "output_type": "display_data"
    },
    {
     "data": {
      "text/html": [
       "<div>\n",
       "<table border=\"1\" class=\"dataframe\">\n",
       "  <thead>\n",
       "    <tr style=\"text-align: right;\">\n",
       "      <th></th>\n",
       "      <th>main_format</th>\n",
       "      <th>main_length</th>\n",
       "      <th>mentions</th>\n",
       "      <th>metadata_score</th>\n",
       "    </tr>\n",
       "  </thead>\n",
       "  <tbody>\n",
       "    <tr>\n",
       "      <th>0</th>\n",
       "      <td>TEXT</td>\n",
       "      <td>144</td>\n",
       "      <td>[ZHA_News]</td>\n",
       "      <td>314</td>\n",
       "    </tr>\n",
       "  </tbody>\n",
       "</table>\n",
       "</div>"
      ],
      "text/plain": [
       "  main_format  main_length    mentions  metadata_score\n",
       "0        TEXT          144  [ZHA_News]             314"
      ]
     },
     "metadata": {},
     "output_type": "display_data"
    },
    {
     "data": {
      "text/html": [
       "<div>\n",
       "<table border=\"1\" class=\"dataframe\">\n",
       "  <thead>\n",
       "    <tr style=\"text-align: right;\">\n",
       "      <th></th>\n",
       "      <th>permalink</th>\n",
       "      <th>published</th>\n",
       "      <th>resource</th>\n",
       "      <th>sentiment</th>\n",
       "    </tr>\n",
       "  </thead>\n",
       "  <tbody>\n",
       "    <tr>\n",
       "      <th>0</th>\n",
       "      <td>https://twitter.com/ALFEEL_GOOD/status/7157293...</td>\n",
       "      <td>2016-04-01T02:35:56Z</td>\n",
       "      <td>https://twitter.com/ALFEEL_GOOD/status/7157293...</td>\n",
       "      <td>POSITIVE</td>\n",
       "    </tr>\n",
       "  </tbody>\n",
       "</table>\n",
       "</div>"
      ],
      "text/plain": [
       "                                           permalink             published  \\\n",
       "0  https://twitter.com/ALFEEL_GOOD/status/7157293...  2016-04-01T02:35:56Z   \n",
       "\n",
       "                                            resource sentiment  \n",
       "0  https://twitter.com/ALFEEL_GOOD/status/7157293...  POSITIVE  "
      ]
     },
     "metadata": {},
     "output_type": "display_data"
    },
    {
     "data": {
      "text/html": [
       "<div>\n",
       "<table border=\"1\" class=\"dataframe\">\n",
       "  <thead>\n",
       "    <tr style=\"text-align: right;\">\n",
       "      <th></th>\n",
       "      <th>sequence</th>\n",
       "      <th>sequence_range</th>\n",
       "      <th>site</th>\n",
       "      <th>source_content_checksum</th>\n",
       "    </tr>\n",
       "  </thead>\n",
       "  <tbody>\n",
       "    <tr>\n",
       "      <th>0</th>\n",
       "      <td>1459478188000002741</td>\n",
       "      <td>62866</td>\n",
       "      <td>twitter.com</td>\n",
       "      <td>EZjK6Tj1xxPysaTlW2fDTvPZha0</td>\n",
       "    </tr>\n",
       "  </tbody>\n",
       "</table>\n",
       "</div>"
      ],
      "text/plain": [
       "              sequence  sequence_range         site  \\\n",
       "0  1459478188000002741           62866  twitter.com   \n",
       "\n",
       "       source_content_checksum  \n",
       "0  EZjK6Tj1xxPysaTlW2fDTvPZha0  "
      ]
     },
     "metadata": {},
     "output_type": "display_data"
    },
    {
     "data": {
      "text/html": [
       "<div>\n",
       "<table border=\"1\" class=\"dataframe\">\n",
       "  <thead>\n",
       "    <tr style=\"text-align: right;\">\n",
       "      <th></th>\n",
       "      <th>source_content_length</th>\n",
       "      <th>source_date_found</th>\n",
       "      <th>source_description</th>\n",
       "      <th>source_favicon_height</th>\n",
       "    </tr>\n",
       "  </thead>\n",
       "  <tbody>\n",
       "    <tr>\n",
       "      <th>0</th>\n",
       "      <td>298888</td>\n",
       "      <td>2015-09-29T22:16:46Z</td>\n",
       "      <td>&lt;p&gt;technowarrior&lt;/p&gt;</td>\n",
       "      <td>0</td>\n",
       "    </tr>\n",
       "  </tbody>\n",
       "</table>\n",
       "</div>"
      ],
      "text/plain": [
       "   source_content_length     source_date_found    source_description  \\\n",
       "0                 298888  2015-09-29T22:16:46Z  <p>technowarrior</p>   \n",
       "\n",
       "   source_favicon_height  \n",
       "0                      0  "
      ]
     },
     "metadata": {},
     "output_type": "display_data"
    },
    {
     "data": {
      "text/html": [
       "<div>\n",
       "<table border=\"1\" class=\"dataframe\">\n",
       "  <thead>\n",
       "    <tr style=\"text-align: right;\">\n",
       "      <th></th>\n",
       "      <th>source_favicon_width</th>\n",
       "      <th>source_favorites</th>\n",
       "      <th>source_followers</th>\n",
       "      <th>source_following</th>\n",
       "    </tr>\n",
       "  </thead>\n",
       "  <tbody>\n",
       "    <tr>\n",
       "      <th>0</th>\n",
       "      <td>0</td>\n",
       "      <td>1123</td>\n",
       "      <td>170</td>\n",
       "      <td>564</td>\n",
       "    </tr>\n",
       "  </tbody>\n",
       "</table>\n",
       "</div>"
      ],
      "text/plain": [
       "   source_favicon_width  source_favorites  source_followers  source_following\n",
       "0                     0              1123               170               564"
      ]
     },
     "metadata": {},
     "output_type": "display_data"
    },
    {
     "data": {
      "text/html": [
       "<div>\n",
       "<table border=\"1\" class=\"dataframe\">\n",
       "  <thead>\n",
       "    <tr style=\"text-align: right;\">\n",
       "      <th></th>\n",
       "      <th>source_handle</th>\n",
       "      <th>source_hashcode</th>\n",
       "      <th>source_http_status</th>\n",
       "      <th>source_image_height</th>\n",
       "    </tr>\n",
       "  </thead>\n",
       "  <tbody>\n",
       "    <tr>\n",
       "      <th>0</th>\n",
       "      <td>ALFEEL_GOOD</td>\n",
       "      <td>_ku0Zrxgfbzig3sBh_vDpmfgY0U</td>\n",
       "      <td>200</td>\n",
       "      <td>0</td>\n",
       "    </tr>\n",
       "  </tbody>\n",
       "</table>\n",
       "</div>"
      ],
      "text/plain": [
       "  source_handle              source_hashcode  source_http_status  \\\n",
       "0   ALFEEL_GOOD  _ku0Zrxgfbzig3sBh_vDpmfgY0U                 200   \n",
       "\n",
       "   source_image_height  \n",
       "0                    0  "
      ]
     },
     "metadata": {},
     "output_type": "display_data"
    },
    {
     "data": {
      "text/html": [
       "<div>\n",
       "<table border=\"1\" class=\"dataframe\">\n",
       "  <thead>\n",
       "    <tr style=\"text-align: right;\">\n",
       "      <th></th>\n",
       "      <th>source_image_src</th>\n",
       "      <th>source_image_width</th>\n",
       "      <th>source_last_posted</th>\n",
       "      <th>source_last_published</th>\n",
       "    </tr>\n",
       "  </thead>\n",
       "  <tbody>\n",
       "    <tr>\n",
       "      <th>0</th>\n",
       "      <td>https://pbs.twimg.com/profile_images/646392333...</td>\n",
       "      <td>0</td>\n",
       "      <td>2014-11-28T08:05:48Z</td>\n",
       "      <td>2015-09-29T22:16:46Z</td>\n",
       "    </tr>\n",
       "  </tbody>\n",
       "</table>\n",
       "</div>"
      ],
      "text/plain": [
       "                                    source_image_src  source_image_width  \\\n",
       "0  https://pbs.twimg.com/profile_images/646392333...                   0   \n",
       "\n",
       "     source_last_posted source_last_published  \n",
       "0  2014-11-28T08:05:48Z  2015-09-29T22:16:46Z  "
      ]
     },
     "metadata": {},
     "output_type": "display_data"
    },
    {
     "data": {
      "text/html": [
       "<div>\n",
       "<table border=\"1\" class=\"dataframe\">\n",
       "  <thead>\n",
       "    <tr style=\"text-align: right;\">\n",
       "      <th></th>\n",
       "      <th>source_last_updated</th>\n",
       "      <th>source_likes</th>\n",
       "      <th>source_link</th>\n",
       "      <th>source_location</th>\n",
       "    </tr>\n",
       "  </thead>\n",
       "  <tbody>\n",
       "    <tr>\n",
       "      <th>0</th>\n",
       "      <td>2015-09-29T22:16:46Z</td>\n",
       "      <td>0</td>\n",
       "      <td>https://twitter.com/ALFEEL_GOOD</td>\n",
       "      <td>Lucerna</td>\n",
       "    </tr>\n",
       "  </tbody>\n",
       "</table>\n",
       "</div>"
      ],
      "text/plain": [
       "    source_last_updated  source_likes                      source_link  \\\n",
       "0  2015-09-29T22:16:46Z             0  https://twitter.com/ALFEEL_GOOD   \n",
       "\n",
       "  source_location  \n",
       "0         Lucerna  "
      ]
     },
     "metadata": {},
     "output_type": "display_data"
    },
    {
     "data": {
      "text/html": [
       "<div>\n",
       "<table border=\"1\" class=\"dataframe\">\n",
       "  <thead>\n",
       "    <tr style=\"text-align: right;\">\n",
       "      <th></th>\n",
       "      <th>source_parsed_posts</th>\n",
       "      <th>source_parsed_posts_max</th>\n",
       "      <th>source_publisher_subtype</th>\n",
       "      <th>source_publisher_type</th>\n",
       "    </tr>\n",
       "  </thead>\n",
       "  <tbody>\n",
       "    <tr>\n",
       "      <th>0</th>\n",
       "      <td>0</td>\n",
       "      <td>0</td>\n",
       "      <td>twitter</td>\n",
       "      <td>MICROBLOG</td>\n",
       "    </tr>\n",
       "  </tbody>\n",
       "</table>\n",
       "</div>"
      ],
      "text/plain": [
       "   source_parsed_posts  source_parsed_posts_max source_publisher_subtype  \\\n",
       "0                    0                        0                  twitter   \n",
       "\n",
       "  source_publisher_type  \n",
       "0             MICROBLOG  "
      ]
     },
     "metadata": {},
     "output_type": "display_data"
    },
    {
     "data": {
      "text/html": [
       "<div>\n",
       "<table border=\"1\" class=\"dataframe\">\n",
       "  <thead>\n",
       "    <tr style=\"text-align: right;\">\n",
       "      <th></th>\n",
       "      <th>source_resource</th>\n",
       "      <th>source_setting_author_policy</th>\n",
       "      <th>source_setting_index_strategy</th>\n",
       "      <th>source_setting_minimum_content_metadata_score</th>\n",
       "    </tr>\n",
       "  </thead>\n",
       "  <tbody>\n",
       "    <tr>\n",
       "      <th>0</th>\n",
       "      <td>https://twitter.com/ALFEEL_GOOD</td>\n",
       "      <td>DEFAULT</td>\n",
       "      <td>DEFAULT</td>\n",
       "      <td>0</td>\n",
       "    </tr>\n",
       "  </tbody>\n",
       "</table>\n",
       "</div>"
      ],
      "text/plain": [
       "                   source_resource source_setting_author_policy  \\\n",
       "0  https://twitter.com/ALFEEL_GOOD                      DEFAULT   \n",
       "\n",
       "  source_setting_index_strategy  source_setting_minimum_content_metadata_score  \n",
       "0                       DEFAULT                                              0  "
      ]
     },
     "metadata": {},
     "output_type": "display_data"
    },
    {
     "data": {
      "text/html": [
       "<div>\n",
       "<table border=\"1\" class=\"dataframe\">\n",
       "  <thead>\n",
       "    <tr style=\"text-align: right;\">\n",
       "      <th></th>\n",
       "      <th>source_setting_update_strategy</th>\n",
       "      <th>source_spam_probability</th>\n",
       "      <th>source_title</th>\n",
       "      <th>source_update_interval</th>\n",
       "    </tr>\n",
       "  </thead>\n",
       "  <tbody>\n",
       "    <tr>\n",
       "      <th>0</th>\n",
       "      <td>CYCLICAL</td>\n",
       "      <td>0.0</td>\n",
       "      <td>ALFEEL GOOD</td>\n",
       "      <td>3600000</td>\n",
       "    </tr>\n",
       "  </tbody>\n",
       "</table>\n",
       "</div>"
      ],
      "text/plain": [
       "  source_setting_update_strategy  source_spam_probability source_title  \\\n",
       "0                       CYCLICAL                      0.0  ALFEEL GOOD   \n",
       "\n",
       "   source_update_interval  \n",
       "0                 3600000  "
      ]
     },
     "metadata": {},
     "output_type": "display_data"
    },
    {
     "data": {
      "text/html": [
       "<div>\n",
       "<table border=\"1\" class=\"dataframe\">\n",
       "  <thead>\n",
       "    <tr style=\"text-align: right;\">\n",
       "      <th></th>\n",
       "      <th>source_user_interactions</th>\n",
       "      <th>source_verified</th>\n",
       "      <th>tags</th>\n",
       "      <th>type</th>\n",
       "    </tr>\n",
       "  </thead>\n",
       "  <tbody>\n",
       "    <tr>\n",
       "      <th>0</th>\n",
       "      <td>0</td>\n",
       "      <td>True</td>\n",
       "      <td>[RIPZaha]</td>\n",
       "      <td>POST</td>\n",
       "    </tr>\n",
       "  </tbody>\n",
       "</table>\n",
       "</div>"
      ],
      "text/plain": [
       "   source_user_interactions source_verified       tags  type\n",
       "0                         0            True  [RIPZaha]  POST"
      ]
     },
     "metadata": {},
     "output_type": "display_data"
    },
    {
     "data": {
      "text/html": [
       "<div>\n",
       "<table border=\"1\" class=\"dataframe\">\n",
       "  <thead>\n",
       "    <tr style=\"text-align: right;\">\n",
       "      <th></th>\n",
       "      <th>version</th>\n",
       "    </tr>\n",
       "  </thead>\n",
       "  <tbody>\n",
       "    <tr>\n",
       "      <th>0</th>\n",
       "      <td>5.1.681</td>\n",
       "    </tr>\n",
       "  </tbody>\n",
       "</table>\n",
       "</div>"
      ],
      "text/plain": [
       "   version\n",
       "0  5.1.681"
      ]
     },
     "metadata": {},
     "output_type": "display_data"
    }
   ],
   "source": [
    "for i in np.arange(17):\n",
    "    display(df2.ix[:,i*4:((i+1)*4)])"
   ]
  },
  {
   "cell_type": "code",
   "execution_count": 32,
   "metadata": {
    "collapsed": false
   },
   "outputs": [
    {
     "data": {
      "text/plain": [
       "'@ZHA_News https://youtu.be/UxQmxIm4q1s\\xa0 Rest in peace Zaha Hadid! Thank you for your brilliant way to recreate architecture #RIPZaha incredible!'"
      ]
     },
     "execution_count": 32,
     "metadata": {},
     "output_type": "execute_result"
    }
   ],
   "source": [
    "df2.main[0]"
   ]
  }
 ],
 "metadata": {
  "anaconda-cloud": {},
  "kernelspec": {
   "display_name": "Python [Root]",
   "language": "python",
   "name": "Python [Root]"
  },
  "language_info": {
   "codemirror_mode": {
    "name": "ipython",
    "version": 3
   },
   "file_extension": ".py",
   "mimetype": "text/x-python",
   "name": "python",
   "nbconvert_exporter": "python",
   "pygments_lexer": "ipython3",
   "version": "3.5.2"
  }
 },
 "nbformat": 4,
 "nbformat_minor": 0
}
