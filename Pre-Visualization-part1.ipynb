{
 "cells": [
  {
   "cell_type": "code",
   "execution_count": 1,
   "metadata": {
    "collapsed": true
   },
   "outputs": [],
   "source": [
    "import pandas as pd\n",
    "import numpy as np\n",
    "import requests\n",
    "import json\n",
    "from keys import gkey"
   ]
  },
  {
   "cell_type": "code",
   "execution_count": 2,
   "metadata": {
    "collapsed": false
   },
   "outputs": [
    {
     "name": "stdout",
     "output_type": "stream",
     "text": [
      "Reading data/__harvest3r_twitter_data_01-04_0.json\n",
      "\n",
      "(25333, 5)\n",
      "Reading data/__harvest3r_twitter_data_02-04_0.json\n",
      "\n",
      "(21270, 5)\n",
      "Reading data/__harvest3r_twitter_data_03-04_0.json\n",
      "\n",
      "(21466, 5)\n",
      "Reading data/__harvest3r_twitter_data_04-04_0.json\n",
      "\n",
      "(24843, 5)\n",
      "Reading data/__harvest3r_twitter_data_05-04_0.json\n",
      "\n",
      "(25994, 5)\n"
     ]
    }
   ],
   "source": [
    "prefix = \"data/__harvest3r_twitter_data_0\"\n",
    "postfix = \"-04_0.json\"\n",
    "data = pd.DataFrame()\n",
    "for i in np.arange(5):\n",
    "    file_name = prefix + str(i+1) + postfix\n",
    "    print(\"Reading \" + file_name + \"\\n\");\n",
    "    df = pd.read_json(file_name)\n",
    "    print(df.shape)\n",
    "    data = pd.concat([data, df])"
   ]
  },
  {
   "cell_type": "code",
   "execution_count": 3,
   "metadata": {
    "collapsed": false
   },
   "outputs": [
    {
     "name": "stdout",
     "output_type": "stream",
     "text": [
      "(118906, 5)\n"
     ]
    },
    {
     "data": {
      "text/html": [
       "<div>\n",
       "<table border=\"1\" class=\"dataframe\">\n",
       "  <thead>\n",
       "    <tr style=\"text-align: right;\">\n",
       "      <th></th>\n",
       "      <th>lang</th>\n",
       "      <th>main</th>\n",
       "      <th>published</th>\n",
       "      <th>sentiment</th>\n",
       "      <th>source_location</th>\n",
       "    </tr>\n",
       "  </thead>\n",
       "  <tbody>\n",
       "    <tr>\n",
       "      <th>0</th>\n",
       "      <td>de</td>\n",
       "      <td>Aktuellste Immoangebote http://tinyurl.com/cth...</td>\n",
       "      <td>2016-04-01T10:07:39Z</td>\n",
       "      <td>NEUTRAL</td>\n",
       "      <td>Bremgarten</td>\n",
       "    </tr>\n",
       "    <tr>\n",
       "      <th>1</th>\n",
       "      <td>de</td>\n",
       "      <td>Du bist 6 - 14 Jahre alt &amp; sprichst Schweizerd...</td>\n",
       "      <td>2016-04-01T09:47:26Z</td>\n",
       "      <td>NEUTRAL</td>\n",
       "      <td>Bad Zurzach</td>\n",
       "    </tr>\n",
       "    <tr>\n",
       "      <th>2</th>\n",
       "      <td>fr</td>\n",
       "      <td>EN DIRECT sur #Periscope : Avec awa la blg htt...</td>\n",
       "      <td>2016-04-01T21:50:35Z</td>\n",
       "      <td>NEUTRAL</td>\n",
       "      <td>Ginevra</td>\n",
       "    </tr>\n",
       "    <tr>\n",
       "      <th>3</th>\n",
       "      <td>en</td>\n",
       "      <td>@ZHA_News https://youtu.be/UxQmxIm4q1s  Rest i...</td>\n",
       "      <td>2016-04-01T02:35:56Z</td>\n",
       "      <td>POSITIVE</td>\n",
       "      <td>Lucerna</td>\n",
       "    </tr>\n",
       "    <tr>\n",
       "      <th>4</th>\n",
       "      <td>de</td>\n",
       "      <td>Unterwegs rastet der Velofahrer gerne bei eine...</td>\n",
       "      <td>2016-04-01T14:08:57Z</td>\n",
       "      <td>NEUTRAL</td>\n",
       "      <td>Hochdorf</td>\n",
       "    </tr>\n",
       "  </tbody>\n",
       "</table>\n",
       "</div>"
      ],
      "text/plain": [
       "  lang                                               main  \\\n",
       "0   de  Aktuellste Immoangebote http://tinyurl.com/cth...   \n",
       "1   de  Du bist 6 - 14 Jahre alt & sprichst Schweizerd...   \n",
       "2   fr  EN DIRECT sur #Periscope : Avec awa la blg htt...   \n",
       "3   en  @ZHA_News https://youtu.be/UxQmxIm4q1s  Rest i...   \n",
       "4   de  Unterwegs rastet der Velofahrer gerne bei eine...   \n",
       "\n",
       "              published sentiment source_location  \n",
       "0  2016-04-01T10:07:39Z   NEUTRAL      Bremgarten  \n",
       "1  2016-04-01T09:47:26Z   NEUTRAL     Bad Zurzach  \n",
       "2  2016-04-01T21:50:35Z   NEUTRAL         Ginevra  \n",
       "3  2016-04-01T02:35:56Z  POSITIVE         Lucerna  \n",
       "4  2016-04-01T14:08:57Z   NEUTRAL        Hochdorf  "
      ]
     },
     "execution_count": 3,
     "metadata": {},
     "output_type": "execute_result"
    }
   ],
   "source": [
    "print(data.shape)\n",
    "data.head()"
   ]
  },
  {
   "cell_type": "code",
   "execution_count": 4,
   "metadata": {
    "collapsed": false
   },
   "outputs": [
    {
     "name": "stdout",
     "output_type": "stream",
     "text": [
      "(127,)\n"
     ]
    },
    {
     "data": {
      "text/plain": [
       "array(['Bremgarten', 'Bad Zurzach', 'Ginevra', 'Lucerna', 'Hochdorf',\n",
       "       'Ennetbürgen', 'Suica', 'Arth', 'Conthey', 'Langnau', 'Einsiedeln',\n",
       "       'Porrentruy', 'Poschiavo', 'Saanen', 'Visp', 'Zwitserland',\n",
       "       'Rheinfelden', 'Glarus', 'Herisau', 'Laufen', 'Buchs', 'Losanna',\n",
       "       'Altdorf', 'Romanshorn', 'Sursee', 'Schmerikon', 'Schwyz', 'Scuol',\n",
       "       'Lauterbrunnen', 'Brugg', 'Weinfelden', 'Szwajcaria', 'Arbon',\n",
       "       'Zofingen', 'Kreuzlingen', 'سويسرا', 'Stans', 'Schenkon', 'Bâle',\n",
       "       'Affoltern am Albis', 'Zermatt', 'Genf', 'Confoederatio Helvetica',\n",
       "       'Швейцария', 'Aigle', 'スイス連邦', 'Liestal', 'Suïssa', 'Sarnen',\n",
       "       'Monthey', 'Bulle', 'Uster', 'Biel/Bienne', 'Zurigo', 'Olten',\n",
       "       'Frauenfeld', 'Delémont', 'Bülach', 'Zuerich', 'Interlaken',\n",
       "       'Waldenburg', 'Solothurn', 'İsviçre', 'Bellinzona', 'Neuchâtel',\n",
       "       '스위스', 'Aarau', 'Sankt Gallen', 'Thun', 'Bienne', 'Suíça', 'Chur',\n",
       "       'Lucerne', 'Svajcarska', 'Brig', 'Marly', 'Helvetia', 'スイス',\n",
       "       'Svizzera', 'Baden', 'Lenzburg', 'Biel', 'Schaffhausen', 'Geneve',\n",
       "       'Winterthur', 'Fribourg', 'St. Gallen', 'Suiza', 'Berna', 'Luzern',\n",
       "       'CH', 'Swiss', 'Lausanne', 'Basel', 'Bern', 'Zurich', 'Lugano',\n",
       "       'Genève', 'Geneva', 'Schweiz', 'Zürich', 'Suisse', 'Switzerland',\n",
       "       'Arlesheim', 'Laufenburg', 'Amden', 'Willisau', 'Payerne', 'Apples',\n",
       "       'Swiss Confederation', 'Basilea', 'Isvicre', 'Frutigen', 'Schwiz',\n",
       "       'Horgen', 'Hinwil', 'Acquarossa', 'Le Locle', 'Thuy Si',\n",
       "       'Dielsdorf', 'Wangen an der Aare', 'Svizra', 'Schüpfheim',\n",
       "       'Samedan', 'Wengen', 'Pfäffikon', 'Evolène'], dtype=object)"
      ]
     },
     "execution_count": 4,
     "metadata": {},
     "output_type": "execute_result"
    }
   ],
   "source": [
    "locations = pd.unique(data.source_location)\n",
    "print(locations.shape)\n",
    "locations"
   ]
  },
  {
   "cell_type": "code",
   "execution_count": 5,
   "metadata": {
    "collapsed": true
   },
   "outputs": [],
   "source": [
    "# mapping location -> canton using google api\n",
    "# function taking the name of the place and returning the long address of it\n",
    "def getAddress(name):\n",
    "  glink=\"https://maps.googleapis.com/maps/api/place/textsearch/json?query={}&key={}\".format(name + \" Switzerland\", gkey)\n",
    "  r = requests.get(glink)\n",
    "  dic = json.loads(r.text)\n",
    "  try:\n",
    "    return dic['results'][0]['formatted_address']\n",
    "  except:\n",
    "    return ''"
   ]
  },
  {
   "cell_type": "code",
   "execution_count": 6,
   "metadata": {
    "collapsed": false
   },
   "outputs": [
    {
     "data": {
      "text/plain": [
       "'Zürich, Switzerland'"
      ]
     },
     "execution_count": 6,
     "metadata": {},
     "output_type": "execute_result"
    }
   ],
   "source": [
    "getAddress('Zürich')"
   ]
  },
  {
   "cell_type": "code",
   "execution_count": 7,
   "metadata": {
    "collapsed": true
   },
   "outputs": [],
   "source": [
    "geocodeLink = \"https://maps.googleapis.com/maps/api/geocode/json?sensor=true\"\n",
    "from time import sleep\n",
    "\n",
    "# Get the resulting Json file from the request, and put it in a json dictionary\n",
    "def getGeocodeJsonDictionary(name):\n",
    "    link =  u\"{}&address=[{}]\".format(geocodeLink, name, gkey)\n",
    "    sleep(0.2) # a workaround for the rate-limit of Google geocode API\n",
    "    r = requests.get(link)\n",
    "    dic = json.loads(r.text)\n",
    "    return dic\n",
    "\n",
    "# Get the canton from the administrative_area_level_1 field in the dictionary\n",
    "def getCantonFromGeocodeDictionary(dic):\n",
    "    a = dic['results'][0]['address_components']\n",
    "    canton=[x['short_name'] for x in a if x['types'][0]=='administrative_area_level_1'][0]   \n",
    "    return canton\n",
    "\n",
    "# Get the canton by composing the two previous functions\n",
    "def getCanton(name):\n",
    "    return getCantonFromGeocodeDictionary(getGeocodeJsonDictionary(name))"
   ]
  },
  {
   "cell_type": "code",
   "execution_count": 8,
   "metadata": {
    "collapsed": false
   },
   "outputs": [],
   "source": [
    "addresses = [[a, getAddress(a)] for a in locations]"
   ]
  },
  {
   "cell_type": "code",
   "execution_count": 9,
   "metadata": {
    "collapsed": false
   },
   "outputs": [
    {
     "data": {
      "text/plain": [
       "[['Bremgarten', '5620 Bremgarten, Switzerland'],\n",
       " ['Bad Zurzach', '5330 Bad Zurzach, Switzerland'],\n",
       " ['Ginevra', 'Geneva, Switzerland'],\n",
       " ['Lucerna', 'Lucerne, Switzerland'],\n",
       " ['Hochdorf', 'Hochdorf, Switzerland'],\n",
       " ['Ennetbürgen', 'Ennetbürgen, Switzerland'],\n",
       " ['Suica', 'Switzerland'],\n",
       " ['Arth', 'Arth, Switzerland'],\n",
       " ['Conthey', 'Conthey, Switzerland'],\n",
       " ['Langnau', 'Langnau im Emmental, Switzerland'],\n",
       " ['Einsiedeln', 'Einsiedeln, Switzerland'],\n",
       " ['Porrentruy', 'Porrentruy, Switzerland'],\n",
       " ['Poschiavo', 'Poschiavo, Switzerland'],\n",
       " ['Saanen', 'Saanen, Switzerland'],\n",
       " ['Visp', '3930 Visp, Switzerland'],\n",
       " ['Zwitserland', 'Switzerland'],\n",
       " ['Rheinfelden', 'Rheinfelden, Switzerland'],\n",
       " ['Glarus', '8750 Glarus, Switzerland'],\n",
       " ['Herisau', 'Herisau, Switzerland'],\n",
       " ['Laufen', '4242 Laufen, Switzerland'],\n",
       " ['Buchs', 'Buchs, Switzerland'],\n",
       " ['Losanna', 'Lausanne, Switzerland'],\n",
       " ['Altdorf', '6460 Altdorf, Switzerland'],\n",
       " ['Romanshorn', '8590 Romanshorn, Switzerland'],\n",
       " ['Sursee', 'Sursee, Switzerland'],\n",
       " ['Schmerikon', 'Schmerikon, Switzerland'],\n",
       " ['Schwyz', 'Schwyz, Switzerland'],\n",
       " ['Scuol', 'Scuol, Switzerland'],\n",
       " ['Lauterbrunnen', 'Lauterbrunnen, Switzerland'],\n",
       " ['Brugg', '5200 Brugg, Switzerland'],\n",
       " ['Weinfelden', '8570 Weinfelden, Switzerland'],\n",
       " ['Szwajcaria', 'Switzerland'],\n",
       " ['Arbon', 'Arbon, Switzerland'],\n",
       " ['Zofingen', 'Zofingen, Switzerland'],\n",
       " ['Kreuzlingen', 'Kreuzlingen, Switzerland'],\n",
       " ['سويسرا', 'Switzerland'],\n",
       " ['Stans', '6370 Stans, Switzerland'],\n",
       " ['Schenkon', 'Schenkon, Switzerland'],\n",
       " ['Bâle', 'Basel, Switzerland'],\n",
       " ['Affoltern am Albis', 'Affoltern am Albis, Switzerland'],\n",
       " ['Zermatt', '3920 Zermatt, Switzerland'],\n",
       " ['Genf', 'Geneva, Switzerland'],\n",
       " ['Confoederatio Helvetica', 'Switzerland'],\n",
       " ['Швейцария', 'Switzerland'],\n",
       " ['Aigle', 'Aigle, Switzerland'],\n",
       " ['スイス連邦', 'Switzerland'],\n",
       " ['Liestal', 'Liestal, Switzerland'],\n",
       " ['Suïssa', 'Switzerland'],\n",
       " ['Sarnen', 'Sarnen, Switzerland'],\n",
       " ['Monthey', 'Monthey, Switzerland'],\n",
       " ['Bulle', 'Bulle, Switzerland'],\n",
       " ['Uster', 'Uster, Switzerland'],\n",
       " ['Biel/Bienne', 'Biel/Bienne, Switzerland'],\n",
       " ['Zurigo', 'Zürich, Switzerland'],\n",
       " ['Olten', 'Olten, Switzerland'],\n",
       " ['Frauenfeld', 'Frauenfeld, Switzerland'],\n",
       " ['Delémont', 'Delémont, Switzerland'],\n",
       " ['Bülach', '8180 Bülach, Switzerland'],\n",
       " ['Zuerich', 'Zürich, Switzerland'],\n",
       " ['Interlaken', 'Interlaken, Switzerland'],\n",
       " ['Waldenburg', 'Waldenburg, Switzerland'],\n",
       " ['Solothurn', '4500 Solothurn, Switzerland'],\n",
       " ['İsviçre', 'Switzerland'],\n",
       " ['Bellinzona', 'Bellinzona, Switzerland'],\n",
       " ['Neuchâtel', 'Neuchâtel, Switzerland'],\n",
       " ['스위스', 'Switzerland'],\n",
       " ['Aarau', 'Aarau, Switzerland'],\n",
       " ['Sankt Gallen', 'St Gallen, Switzerland'],\n",
       " ['Thun', 'Thun, Switzerland'],\n",
       " ['Bienne', 'Biel/Bienne, Switzerland'],\n",
       " ['Suíça', 'Switzerland'],\n",
       " ['Chur', 'Chur, Switzerland'],\n",
       " ['Lucerne', 'Lucerne, Switzerland'],\n",
       " ['Svajcarska', 'Switzerland'],\n",
       " ['Brig', 'Brig, Switzerland'],\n",
       " ['Marly', '1723 Marly, Switzerland'],\n",
       " ['Helvetia', 'Switzerland'],\n",
       " ['スイス', 'Switzerland'],\n",
       " ['Svizzera', 'Switzerland'],\n",
       " ['Baden', 'Baden, Switzerland'],\n",
       " ['Lenzburg', '5600 Lenzburg, Switzerland'],\n",
       " ['Biel', 'Biel/Bienne, Switzerland'],\n",
       " ['Schaffhausen', 'Schaffhausen, Switzerland'],\n",
       " ['Geneve', 'Geneva, Switzerland'],\n",
       " ['Winterthur', 'Winterthur, Switzerland'],\n",
       " ['Fribourg', 'Fribourg, Switzerland'],\n",
       " ['St. Gallen', 'St Gallen, Switzerland'],\n",
       " ['Suiza', 'Switzerland'],\n",
       " ['Berna', 'Bern, Switzerland'],\n",
       " ['Luzern', 'Lucerne, Switzerland'],\n",
       " ['CH', 'Switzerland'],\n",
       " ['Swiss', 'Switzerland'],\n",
       " ['Lausanne', 'Lausanne, Switzerland'],\n",
       " ['Basel', 'Basel, Switzerland'],\n",
       " ['Bern', 'Bern, Switzerland'],\n",
       " ['Zurich', 'Zürich, Switzerland'],\n",
       " ['Lugano', 'Lugano, Switzerland'],\n",
       " ['Genève', 'Geneva, Switzerland'],\n",
       " ['Geneva', 'Geneva, Switzerland'],\n",
       " ['Schweiz', 'Switzerland'],\n",
       " ['Zürich', 'Zürich, Switzerland'],\n",
       " ['Suisse', ''],\n",
       " ['Switzerland', 'Switzerland'],\n",
       " ['Arlesheim', ''],\n",
       " ['Laufenburg', ''],\n",
       " ['Amden', ''],\n",
       " ['Willisau', ''],\n",
       " ['Payerne', ''],\n",
       " ['Apples', ''],\n",
       " ['Swiss Confederation', ''],\n",
       " ['Basilea', ''],\n",
       " ['Isvicre', ''],\n",
       " ['Frutigen', 'Frutigen, Switzerland'],\n",
       " ['Schwiz', ''],\n",
       " ['Horgen', ''],\n",
       " ['Hinwil', ''],\n",
       " ['Acquarossa', ''],\n",
       " ['Le Locle', ''],\n",
       " ['Thuy Si', ''],\n",
       " ['Dielsdorf', ''],\n",
       " ['Wangen an der Aare', ''],\n",
       " ['Svizra', ''],\n",
       " ['Schüpfheim', ''],\n",
       " ['Samedan', ''],\n",
       " ['Wengen', ''],\n",
       " ['Pfäffikon', ''],\n",
       " ['Evolène', '']]"
      ]
     },
     "execution_count": 9,
     "metadata": {},
     "output_type": "execute_result"
    }
   ],
   "source": [
    "addresses"
   ]
  },
  {
   "cell_type": "code",
   "execution_count": 14,
   "metadata": {
    "collapsed": false,
    "scrolled": true
   },
   "outputs": [],
   "source": [
    "def add(a):\n",
    "    if a[1] == '':\n",
    "        if a[0] == 'Suisse' :\n",
    "            val = 'Switzerland'\n",
    "        else :\n",
    "            val = a[0]\n",
    "    else :\n",
    "        val = a[1]\n",
    "    return val\n",
    "\n",
    "addresses = [[a[0], add(a)] for a in addresses]\n",
    "addresses = [a for a in addresses if a[1] != 'Switzerland']"
   ]
  },
  {
   "cell_type": "code",
   "execution_count": 15,
   "metadata": {
    "collapsed": false
   },
   "outputs": [
    {
     "data": {
      "text/plain": [
       "[['Bremgarten', '5620 Bremgarten, Switzerland'],\n",
       " ['Bad Zurzach', '5330 Bad Zurzach, Switzerland'],\n",
       " ['Ginevra', 'Geneva, Switzerland'],\n",
       " ['Lucerna', 'Lucerne, Switzerland'],\n",
       " ['Hochdorf', 'Hochdorf, Switzerland'],\n",
       " ['Ennetbürgen', 'Ennetbürgen, Switzerland'],\n",
       " ['Arth', 'Arth, Switzerland'],\n",
       " ['Conthey', 'Conthey, Switzerland'],\n",
       " ['Langnau', 'Langnau im Emmental, Switzerland'],\n",
       " ['Einsiedeln', 'Einsiedeln, Switzerland'],\n",
       " ['Porrentruy', 'Porrentruy, Switzerland'],\n",
       " ['Poschiavo', 'Poschiavo, Switzerland'],\n",
       " ['Saanen', 'Saanen, Switzerland'],\n",
       " ['Visp', '3930 Visp, Switzerland'],\n",
       " ['Rheinfelden', 'Rheinfelden, Switzerland'],\n",
       " ['Glarus', '8750 Glarus, Switzerland'],\n",
       " ['Herisau', 'Herisau, Switzerland'],\n",
       " ['Laufen', '4242 Laufen, Switzerland'],\n",
       " ['Buchs', 'Buchs, Switzerland'],\n",
       " ['Losanna', 'Lausanne, Switzerland'],\n",
       " ['Altdorf', '6460 Altdorf, Switzerland'],\n",
       " ['Romanshorn', '8590 Romanshorn, Switzerland'],\n",
       " ['Sursee', 'Sursee, Switzerland'],\n",
       " ['Schmerikon', 'Schmerikon, Switzerland'],\n",
       " ['Schwyz', 'Schwyz, Switzerland'],\n",
       " ['Scuol', 'Scuol, Switzerland'],\n",
       " ['Lauterbrunnen', 'Lauterbrunnen, Switzerland'],\n",
       " ['Brugg', '5200 Brugg, Switzerland'],\n",
       " ['Weinfelden', '8570 Weinfelden, Switzerland'],\n",
       " ['Arbon', 'Arbon, Switzerland'],\n",
       " ['Zofingen', 'Zofingen, Switzerland'],\n",
       " ['Kreuzlingen', 'Kreuzlingen, Switzerland'],\n",
       " ['Stans', '6370 Stans, Switzerland'],\n",
       " ['Schenkon', 'Schenkon, Switzerland'],\n",
       " ['Bâle', 'Basel, Switzerland'],\n",
       " ['Affoltern am Albis', 'Affoltern am Albis, Switzerland'],\n",
       " ['Zermatt', '3920 Zermatt, Switzerland'],\n",
       " ['Genf', 'Geneva, Switzerland'],\n",
       " ['Aigle', 'Aigle, Switzerland'],\n",
       " ['Liestal', 'Liestal, Switzerland'],\n",
       " ['Sarnen', 'Sarnen, Switzerland'],\n",
       " ['Monthey', 'Monthey, Switzerland'],\n",
       " ['Bulle', 'Bulle, Switzerland'],\n",
       " ['Uster', 'Uster, Switzerland'],\n",
       " ['Biel/Bienne', 'Biel/Bienne, Switzerland'],\n",
       " ['Zurigo', 'Zürich, Switzerland'],\n",
       " ['Olten', 'Olten, Switzerland'],\n",
       " ['Frauenfeld', 'Frauenfeld, Switzerland'],\n",
       " ['Delémont', 'Delémont, Switzerland'],\n",
       " ['Bülach', '8180 Bülach, Switzerland'],\n",
       " ['Zuerich', 'Zürich, Switzerland'],\n",
       " ['Interlaken', 'Interlaken, Switzerland'],\n",
       " ['Waldenburg', 'Waldenburg, Switzerland'],\n",
       " ['Solothurn', '4500 Solothurn, Switzerland'],\n",
       " ['Bellinzona', 'Bellinzona, Switzerland'],\n",
       " ['Neuchâtel', 'Neuchâtel, Switzerland'],\n",
       " ['Aarau', 'Aarau, Switzerland'],\n",
       " ['Sankt Gallen', 'St Gallen, Switzerland'],\n",
       " ['Thun', 'Thun, Switzerland'],\n",
       " ['Bienne', 'Biel/Bienne, Switzerland'],\n",
       " ['Chur', 'Chur, Switzerland'],\n",
       " ['Lucerne', 'Lucerne, Switzerland'],\n",
       " ['Brig', 'Brig, Switzerland'],\n",
       " ['Marly', '1723 Marly, Switzerland'],\n",
       " ['Baden', 'Baden, Switzerland'],\n",
       " ['Lenzburg', '5600 Lenzburg, Switzerland'],\n",
       " ['Biel', 'Biel/Bienne, Switzerland'],\n",
       " ['Schaffhausen', 'Schaffhausen, Switzerland'],\n",
       " ['Geneve', 'Geneva, Switzerland'],\n",
       " ['Winterthur', 'Winterthur, Switzerland'],\n",
       " ['Fribourg', 'Fribourg, Switzerland'],\n",
       " ['St. Gallen', 'St Gallen, Switzerland'],\n",
       " ['Berna', 'Bern, Switzerland'],\n",
       " ['Luzern', 'Lucerne, Switzerland'],\n",
       " ['Lausanne', 'Lausanne, Switzerland'],\n",
       " ['Basel', 'Basel, Switzerland'],\n",
       " ['Bern', 'Bern, Switzerland'],\n",
       " ['Zurich', 'Zürich, Switzerland'],\n",
       " ['Lugano', 'Lugano, Switzerland'],\n",
       " ['Genève', 'Geneva, Switzerland'],\n",
       " ['Geneva', 'Geneva, Switzerland'],\n",
       " ['Zürich', 'Zürich, Switzerland'],\n",
       " ['Arlesheim', 'Arlesheim'],\n",
       " ['Laufenburg', 'Laufenburg'],\n",
       " ['Amden', 'Amden'],\n",
       " ['Willisau', 'Willisau'],\n",
       " ['Payerne', 'Payerne'],\n",
       " ['Apples', 'Apples'],\n",
       " ['Swiss Confederation', 'Swiss Confederation'],\n",
       " ['Basilea', 'Basilea'],\n",
       " ['Isvicre', 'Isvicre'],\n",
       " ['Frutigen', 'Frutigen, Switzerland'],\n",
       " ['Schwiz', 'Schwiz'],\n",
       " ['Horgen', 'Horgen'],\n",
       " ['Hinwil', 'Hinwil'],\n",
       " ['Acquarossa', 'Acquarossa'],\n",
       " ['Le Locle', 'Le Locle'],\n",
       " ['Thuy Si', 'Thuy Si'],\n",
       " ['Dielsdorf', 'Dielsdorf'],\n",
       " ['Wangen an der Aare', 'Wangen an der Aare'],\n",
       " ['Svizra', 'Svizra'],\n",
       " ['Schüpfheim', 'Schüpfheim'],\n",
       " ['Samedan', 'Samedan'],\n",
       " ['Wengen', 'Wengen'],\n",
       " ['Pfäffikon', 'Pfäffikon'],\n",
       " ['Evolène', 'Evolène']]"
      ]
     },
     "execution_count": 15,
     "metadata": {},
     "output_type": "execute_result"
    }
   ],
   "source": [
    "addresses"
   ]
  },
  {
   "cell_type": "code",
   "execution_count": 16,
   "metadata": {
    "collapsed": false
   },
   "outputs": [
    {
     "ename": "IndexError",
     "evalue": "list index out of range",
     "output_type": "error",
     "traceback": [
      "\u001b[0;31m---------------------------------------------------------------------------\u001b[0m",
      "\u001b[0;31mIndexError\u001b[0m                                Traceback (most recent call last)",
      "\u001b[0;32m<ipython-input-16-081d8c008a1d>\u001b[0m in \u001b[0;36m<module>\u001b[0;34m()\u001b[0m\n\u001b[0;32m----> 1\u001b[0;31m \u001b[0mcantons\u001b[0m \u001b[0;34m=\u001b[0m \u001b[0;34m[\u001b[0m\u001b[0;34m[\u001b[0m\u001b[0ma\u001b[0m\u001b[0;34m[\u001b[0m\u001b[0;36m0\u001b[0m\u001b[0;34m]\u001b[0m\u001b[0;34m,\u001b[0m \u001b[0mgetCanton\u001b[0m\u001b[0;34m(\u001b[0m\u001b[0ma\u001b[0m\u001b[0;34m[\u001b[0m\u001b[0;36m1\u001b[0m\u001b[0;34m]\u001b[0m\u001b[0;34m)\u001b[0m\u001b[0;34m]\u001b[0m \u001b[0;32mfor\u001b[0m \u001b[0ma\u001b[0m \u001b[0;32min\u001b[0m \u001b[0maddresses\u001b[0m \u001b[0;32mif\u001b[0m \u001b[0ma\u001b[0m\u001b[0;34m[\u001b[0m\u001b[0;36m1\u001b[0m\u001b[0;34m]\u001b[0m \u001b[0;34m!=\u001b[0m \u001b[0;34m\"\"\u001b[0m\u001b[0;34m]\u001b[0m\u001b[0;34m\u001b[0m\u001b[0m\n\u001b[0m",
      "\u001b[0;32m<ipython-input-16-081d8c008a1d>\u001b[0m in \u001b[0;36m<listcomp>\u001b[0;34m(.0)\u001b[0m\n\u001b[0;32m----> 1\u001b[0;31m \u001b[0mcantons\u001b[0m \u001b[0;34m=\u001b[0m \u001b[0;34m[\u001b[0m\u001b[0;34m[\u001b[0m\u001b[0ma\u001b[0m\u001b[0;34m[\u001b[0m\u001b[0;36m0\u001b[0m\u001b[0;34m]\u001b[0m\u001b[0;34m,\u001b[0m \u001b[0mgetCanton\u001b[0m\u001b[0;34m(\u001b[0m\u001b[0ma\u001b[0m\u001b[0;34m[\u001b[0m\u001b[0;36m1\u001b[0m\u001b[0;34m]\u001b[0m\u001b[0;34m)\u001b[0m\u001b[0;34m]\u001b[0m \u001b[0;32mfor\u001b[0m \u001b[0ma\u001b[0m \u001b[0;32min\u001b[0m \u001b[0maddresses\u001b[0m \u001b[0;32mif\u001b[0m \u001b[0ma\u001b[0m\u001b[0;34m[\u001b[0m\u001b[0;36m1\u001b[0m\u001b[0;34m]\u001b[0m \u001b[0;34m!=\u001b[0m \u001b[0;34m\"\"\u001b[0m\u001b[0;34m]\u001b[0m\u001b[0;34m\u001b[0m\u001b[0m\n\u001b[0m",
      "\u001b[0;32m<ipython-input-7-cc8dace9c9c5>\u001b[0m in \u001b[0;36mgetCanton\u001b[0;34m(name)\u001b[0m\n\u001b[1;32m     18\u001b[0m \u001b[0;31m# Get the canton by composing the two previous functions\u001b[0m\u001b[0;34m\u001b[0m\u001b[0;34m\u001b[0m\u001b[0m\n\u001b[1;32m     19\u001b[0m \u001b[0;32mdef\u001b[0m \u001b[0mgetCanton\u001b[0m\u001b[0;34m(\u001b[0m\u001b[0mname\u001b[0m\u001b[0;34m)\u001b[0m\u001b[0;34m:\u001b[0m\u001b[0;34m\u001b[0m\u001b[0m\n\u001b[0;32m---> 20\u001b[0;31m     \u001b[0;32mreturn\u001b[0m \u001b[0mgetCantonFromGeocodeDictionary\u001b[0m\u001b[0;34m(\u001b[0m\u001b[0mgetGeocodeJsonDictionary\u001b[0m\u001b[0;34m(\u001b[0m\u001b[0mname\u001b[0m\u001b[0;34m)\u001b[0m\u001b[0;34m)\u001b[0m\u001b[0;34m\u001b[0m\u001b[0m\n\u001b[0m",
      "\u001b[0;32m<ipython-input-7-cc8dace9c9c5>\u001b[0m in \u001b[0;36mgetCantonFromGeocodeDictionary\u001b[0;34m(dic)\u001b[0m\n\u001b[1;32m     12\u001b[0m \u001b[0;31m# Get the canton from the administrative_area_level_1 field in the dictionary\u001b[0m\u001b[0;34m\u001b[0m\u001b[0;34m\u001b[0m\u001b[0m\n\u001b[1;32m     13\u001b[0m \u001b[0;32mdef\u001b[0m \u001b[0mgetCantonFromGeocodeDictionary\u001b[0m\u001b[0;34m(\u001b[0m\u001b[0mdic\u001b[0m\u001b[0;34m)\u001b[0m\u001b[0;34m:\u001b[0m\u001b[0;34m\u001b[0m\u001b[0m\n\u001b[0;32m---> 14\u001b[0;31m     \u001b[0ma\u001b[0m \u001b[0;34m=\u001b[0m \u001b[0mdic\u001b[0m\u001b[0;34m[\u001b[0m\u001b[0;34m'results'\u001b[0m\u001b[0;34m]\u001b[0m\u001b[0;34m[\u001b[0m\u001b[0;36m0\u001b[0m\u001b[0;34m]\u001b[0m\u001b[0;34m[\u001b[0m\u001b[0;34m'address_components'\u001b[0m\u001b[0;34m]\u001b[0m\u001b[0;34m\u001b[0m\u001b[0m\n\u001b[0m\u001b[1;32m     15\u001b[0m     \u001b[0mcanton\u001b[0m\u001b[0;34m=\u001b[0m\u001b[0;34m[\u001b[0m\u001b[0mx\u001b[0m\u001b[0;34m[\u001b[0m\u001b[0;34m'short_name'\u001b[0m\u001b[0;34m]\u001b[0m \u001b[0;32mfor\u001b[0m \u001b[0mx\u001b[0m \u001b[0;32min\u001b[0m \u001b[0ma\u001b[0m \u001b[0;32mif\u001b[0m \u001b[0mx\u001b[0m\u001b[0;34m[\u001b[0m\u001b[0;34m'types'\u001b[0m\u001b[0;34m]\u001b[0m\u001b[0;34m[\u001b[0m\u001b[0;36m0\u001b[0m\u001b[0;34m]\u001b[0m\u001b[0;34m==\u001b[0m\u001b[0;34m'administrative_area_level_1'\u001b[0m\u001b[0;34m]\u001b[0m\u001b[0;34m[\u001b[0m\u001b[0;36m0\u001b[0m\u001b[0;34m]\u001b[0m\u001b[0;34m\u001b[0m\u001b[0m\n\u001b[1;32m     16\u001b[0m     \u001b[0;32mreturn\u001b[0m \u001b[0mcanton\u001b[0m\u001b[0;34m\u001b[0m\u001b[0m\n",
      "\u001b[0;31mIndexError\u001b[0m: list index out of range"
     ]
    }
   ],
   "source": [
    "cantons = [[a[0], getCanton(a[1])] for a in addresses if a[1] != \"\"]"
   ]
  },
  {
   "cell_type": "code",
   "execution_count": null,
   "metadata": {
    "collapsed": false
   },
   "outputs": [],
   "source": [
    "cantons"
   ]
  },
  {
   "cell_type": "code",
   "execution_count": null,
   "metadata": {
    "collapsed": false
   },
   "outputs": [],
   "source": [
    "df_cantons = pd.DataFrame(cantons)\n",
    "df_cantons"
   ]
  },
  {
   "cell_type": "code",
   "execution_count": null,
   "metadata": {
    "collapsed": false
   },
   "outputs": [],
   "source": [
    "df_cantons.columns = [['Location','ID']]\n",
    "df_cantons"
   ]
  },
  {
   "cell_type": "code",
   "execution_count": null,
   "metadata": {
    "collapsed": true
   },
   "outputs": [],
   "source": [
    "df_canton_name = pd.read_csv('data/canton_name.csv', sep=',') # Read the canton names"
   ]
  },
  {
   "cell_type": "code",
   "execution_count": null,
   "metadata": {
    "collapsed": false
   },
   "outputs": [],
   "source": [
    "df_canton_name"
   ]
  },
  {
   "cell_type": "code",
   "execution_count": null,
   "metadata": {
    "collapsed": true
   },
   "outputs": [],
   "source": [
    "df = pd.merge(df_canton_name, df_cantons, how='outer') # merge the two datasets to have all the cantons"
   ]
  },
  {
   "cell_type": "code",
   "execution_count": null,
   "metadata": {
    "collapsed": false
   },
   "outputs": [],
   "source": [
    "df"
   ]
  },
  {
   "cell_type": "code",
   "execution_count": null,
   "metadata": {
    "collapsed": true
   },
   "outputs": [],
   "source": [
    "df.to_csv('data/location_to_canton.csv')"
   ]
  }
 ],
 "metadata": {
  "kernelspec": {
   "display_name": "Python [Root]",
   "language": "python",
   "name": "Python [Root]"
  },
  "language_info": {
   "codemirror_mode": {
    "name": "ipython",
    "version": 3
   },
   "file_extension": ".py",
   "mimetype": "text/x-python",
   "name": "python",
   "nbconvert_exporter": "python",
   "pygments_lexer": "ipython3",
   "version": "3.5.2"
  }
 },
 "nbformat": 4,
 "nbformat_minor": 0
}
